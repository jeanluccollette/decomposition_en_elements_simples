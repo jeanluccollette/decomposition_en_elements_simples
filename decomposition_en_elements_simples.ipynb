{
  "cells": [
    {
      "cell_type": "markdown",
      "source": [
        "# Décomposition en éléments simples"
      ],
      "metadata": {
        "id": "6fX0CVMl0btF"
      }
    },
    {
      "cell_type": "markdown",
      "source": [
        "## Introduction"
      ],
      "metadata": {
        "id": "NRtGHDXpL4-I"
      }
    },
    {
      "cell_type": "markdown",
      "source": [
        "La résolution d'équations différentielles linéaires peut s'effectuer en s'aidant de la transformée de Laplace. Via cette méthode, on accède dans un premier temps à la transformée de Laplace de la solution, qui se présente pour l'essentiel sous la forme d'une fraction rationnelle d'une variable complexe $p$.\n",
        "\n",
        "Pour revenir à l'expression temporelle de la solution, il faut procéder à la **décomposition en éléments simples** de la fraction rationnelle en $p$, de sorte qu'apparaissent des termes élémentaires de la forme $\\dfrac{K}{(p-a)^n}$ (dans le corps des complexes) pour lesquels l'expression temporelle associée $K\\dfrac{t^{n-1}e^{at}\\theta(t)}{(n-1)!}$ est connue.\n",
        "\n",
        "L'idée ici est d'illustrer les méthodes de calcul via le package **sympy** de calcul symbolique. Mais il reste préférable de pouvoir **mener ces calculs avec un crayon et un papier**."
      ],
      "metadata": {
        "id": "R-ujPB6FL9eR"
      }
    },
    {
      "cell_type": "code",
      "source": [
        "import sympy as sp\n",
        "\n",
        "a,n,p,t=sp.symbols('a,n,p,t')\n",
        "F=1/(p-a)**n\n",
        "sp.inverse_laplace_transform(F, p, t)"
      ],
      "metadata": {
        "colab": {
          "base_uri": "https://localhost:8080/",
          "height": 58
        },
        "id": "Cma-PyiLRahc",
        "outputId": "4e55f552-9316-458f-a8e4-1cc961cb695b"
      },
      "execution_count": 1,
      "outputs": [
        {
          "output_type": "execute_result",
          "data": {
            "text/plain": [
              "t**(n - 1)*exp(a*t)*Heaviside(t)/gamma(n)"
            ],
            "text/latex": "$\\displaystyle \\frac{t^{n - 1} e^{a t} \\theta\\left(t\\right)}{\\Gamma\\left(n\\right)}$"
          },
          "metadata": {},
          "execution_count": 1
        }
      ]
    },
    {
      "cell_type": "markdown",
      "source": [
        "## Quelques exemples simples"
      ],
      "metadata": {
        "id": "EGDHf2GjQWxg"
      }
    },
    {
      "cell_type": "markdown",
      "source": [
        "Pour des fractions rationnelles ne comprenant que des pôles simples, l'expression temporelle est directement déduite de la décomposition en éléments simples."
      ],
      "metadata": {
        "id": "TI2RH2s9Q1oA"
      }
    },
    {
      "cell_type": "code",
      "execution_count": 2,
      "metadata": {
        "id": "JN_N0UddbZsI",
        "colab": {
          "base_uri": "https://localhost:8080/",
          "height": 57
        },
        "outputId": "9cbe6642-7f56-4d9b-8cdf-b3a9cf3edbb7"
      },
      "outputs": [
        {
          "output_type": "execute_result",
          "data": {
            "text/plain": [
              "(p + 1)*(p + 2)/((p + 4)*(p + 5)*(p + 6))"
            ],
            "text/latex": "$\\displaystyle \\frac{\\left(p + 1\\right) \\left(p + 2\\right)}{\\left(p + 4\\right) \\left(p + 5\\right) \\left(p + 6\\right)}$"
          },
          "metadata": {},
          "execution_count": 2
        }
      ],
      "source": [
        "F = ((p + 1)*(p + 2))/((p + 4)*(p + 5)*(p + 6))\n",
        "F"
      ]
    },
    {
      "cell_type": "code",
      "execution_count": 3,
      "metadata": {
        "colab": {
          "base_uri": "https://localhost:8080/",
          "height": 54
        },
        "id": "_lzrDIbjbZsI",
        "outputId": "22916c07-7109-4c4e-f9e5-192ff59fc476"
      },
      "outputs": [
        {
          "output_type": "execute_result",
          "data": {
            "text/plain": [
              "10/(p + 6) - 12/(p + 5) + 3/(p + 4)"
            ],
            "text/latex": "$\\displaystyle \\frac{10}{p + 6} - \\frac{12}{p + 5} + \\frac{3}{p + 4}$"
          },
          "metadata": {},
          "execution_count": 3
        }
      ],
      "source": [
        "F.apart(p)"
      ]
    },
    {
      "cell_type": "code",
      "execution_count": 4,
      "metadata": {
        "colab": {
          "base_uri": "https://localhost:8080/",
          "height": 39
        },
        "id": "Wm5VWGAobZsM",
        "outputId": "8e64f1ef-85fb-4640-ff7a-09cf9753e70a"
      },
      "outputs": [
        {
          "output_type": "execute_result",
          "data": {
            "text/plain": [
              "3*exp(-4*t)*Heaviside(t) - 12*exp(-5*t)*Heaviside(t) + 10*exp(-6*t)*Heaviside(t)"
            ],
            "text/latex": "$\\displaystyle 3 e^{- 4 t} \\theta\\left(t\\right) - 12 e^{- 5 t} \\theta\\left(t\\right) + 10 e^{- 6 t} \\theta\\left(t\\right)$"
          },
          "metadata": {},
          "execution_count": 4
        }
      ],
      "source": [
        "sp.inverse_laplace_transform(F, p, t)"
      ]
    },
    {
      "cell_type": "markdown",
      "source": [
        "En présence de pôles complexes conjugués, l'expression temporelle fait apparaître aussi des paires de termes qui sont respectivement complexe et complexe conjugué. La fonction **apart** réalise directement cet appairage.  "
      ],
      "metadata": {
        "id": "PVaORp1lRTKP"
      }
    },
    {
      "cell_type": "code",
      "source": [
        "F = ((p + 1)*(p + 2))/((p + 4)*(p + 2 - 1j)*(p + 2 + 1j))\n",
        "F"
      ],
      "metadata": {
        "colab": {
          "base_uri": "https://localhost:8080/",
          "height": 57
        },
        "id": "IXLb_ceR1H_1",
        "outputId": "277c68e0-3cfe-4b81-d86d-2ad5c63325ca"
      },
      "execution_count": 5,
      "outputs": [
        {
          "output_type": "execute_result",
          "data": {
            "text/plain": [
              "(p + 1)*(p + 2)/((p + 4)*(p + 2 - 1.0*I)*(p + 2 + 1.0*I))"
            ],
            "text/latex": "$\\displaystyle \\frac{\\left(p + 1\\right) \\left(p + 2\\right)}{\\left(p + 4\\right) \\left(p + 2 - 1.0 i\\right) \\left(p + 2 + 1.0 i\\right)}$"
          },
          "metadata": {},
          "execution_count": 5
        }
      ]
    },
    {
      "cell_type": "code",
      "source": [
        "F.apart(p)"
      ],
      "metadata": {
        "colab": {
          "base_uri": "https://localhost:8080/",
          "height": 56
        },
        "id": "4NE_0eIc1dqk",
        "outputId": "5485d956-bcb5-4a5e-e8fc-684e207aad16"
      },
      "execution_count": 6,
      "outputs": [
        {
          "output_type": "execute_result",
          "data": {
            "text/plain": [
              "-0.2*(0.2*p + 1.0)/(0.2*p**2 + 0.8*p + 1.0) + 0.3/(0.25*p + 1.0)"
            ],
            "text/latex": "$\\displaystyle - \\frac{0.2 \\left(0.2 p + 1.0\\right)}{0.2 p^{2} + 0.8 p + 1.0} + \\frac{0.3}{0.25 p + 1.0}$"
          },
          "metadata": {},
          "execution_count": 6
        }
      ]
    },
    {
      "cell_type": "code",
      "source": [
        "sp.inverse_laplace_transform(F, p, t)"
      ],
      "metadata": {
        "colab": {
          "base_uri": "https://localhost:8080/",
          "height": 39
        },
        "id": "ANuRYc7J1lF7",
        "outputId": "4ed30ee8-1fc4-43dc-ae0b-f39febbd20ac"
      },
      "execution_count": 7,
      "outputs": [
        {
          "output_type": "execute_result",
          "data": {
            "text/plain": [
              "(-0.6*exp(-2.0*t)*sin(1.0*t) - 0.2*exp(-2.0*t)*cos(1.0*t))*Heaviside(t) + 1.2*exp(-4.0*t)*Heaviside(t)"
            ],
            "text/latex": "$\\displaystyle \\left(- 0.6 e^{- 2.0 t} \\sin{\\left(1.0 t \\right)} - 0.2 e^{- 2.0 t} \\cos{\\left(1.0 t \\right)}\\right) \\theta\\left(t\\right) + 1.2 e^{- 4.0 t} \\theta\\left(t\\right)$"
          },
          "metadata": {},
          "execution_count": 7
        }
      ]
    },
    {
      "cell_type": "markdown",
      "source": [
        "On peut détailler le calcul effectué et faire apparaître les expressions temporelles complexes."
      ],
      "metadata": {
        "id": "BRjiWvZkURSp"
      }
    },
    {
      "cell_type": "code",
      "source": [
        "z1,z2,z3,p1,p2,p3=sp.symbols('z_1,z_2,z_3,p_1,p_2,p_3')\n",
        "F = ((p - z1)*(p - z2))/((p - p1)*(p - p2)*(p - p3))\n",
        "F"
      ],
      "metadata": {
        "colab": {
          "base_uri": "https://localhost:8080/",
          "height": 57
        },
        "id": "b9lX3wPeTN84",
        "outputId": "038d2b45-b8c3-4c34-f3cd-b4fbc7a60844"
      },
      "execution_count": 8,
      "outputs": [
        {
          "output_type": "execute_result",
          "data": {
            "text/plain": [
              "(p - z_1)*(p - z_2)/((p - p_1)*(p - p_2)*(p - p_3))"
            ],
            "text/latex": "$\\displaystyle \\frac{\\left(p - z_{1}\\right) \\left(p - z_{2}\\right)}{\\left(p - p_{1}\\right) \\left(p - p_{2}\\right) \\left(p - p_{3}\\right)}$"
          },
          "metadata": {},
          "execution_count": 8
        }
      ]
    },
    {
      "cell_type": "code",
      "source": [
        "G=F.apart(x=p)\n",
        "G"
      ],
      "metadata": {
        "colab": {
          "base_uri": "https://localhost:8080/",
          "height": 57
        },
        "id": "ep8RMb2YTptY",
        "outputId": "5fff1c0f-9c81-4b89-e66e-138a6ea5344e"
      },
      "execution_count": 9,
      "outputs": [
        {
          "output_type": "execute_result",
          "data": {
            "text/plain": [
              "(p_3 - z_1)*(p_3 - z_2)/((p - p_3)*(p_1 - p_3)*(p_2 - p_3)) - (p_2 - z_1)*(p_2 - z_2)/((p - p_2)*(p_1 - p_2)*(p_2 - p_3)) + (p_1 - z_1)*(p_1 - z_2)/((p - p_1)*(p_1 - p_2)*(p_1 - p_3))"
            ],
            "text/latex": "$\\displaystyle \\frac{\\left(p_{3} - z_{1}\\right) \\left(p_{3} - z_{2}\\right)}{\\left(p - p_{3}\\right) \\left(p_{1} - p_{3}\\right) \\left(p_{2} - p_{3}\\right)} - \\frac{\\left(p_{2} - z_{1}\\right) \\left(p_{2} - z_{2}\\right)}{\\left(p - p_{2}\\right) \\left(p_{1} - p_{2}\\right) \\left(p_{2} - p_{3}\\right)} + \\frac{\\left(p_{1} - z_{1}\\right) \\left(p_{1} - z_{2}\\right)}{\\left(p - p_{1}\\right) \\left(p_{1} - p_{2}\\right) \\left(p_{1} - p_{3}\\right)}$"
          },
          "metadata": {},
          "execution_count": 9
        }
      ]
    },
    {
      "cell_type": "code",
      "source": [
        "K=G.subs({z1:-1, z2:-2, p1:-4,p2:-2+1j,p3:-2-1j})\n",
        "K"
      ],
      "metadata": {
        "colab": {
          "base_uri": "https://localhost:8080/",
          "height": 56
        },
        "id": "kp0hFxWpTrqX",
        "outputId": "c4a8e251-f1e0-49f6-e91d-7c906bc9b91e"
      },
      "execution_count": 10,
      "outputs": [
        {
          "output_type": "execute_result",
          "data": {
            "text/plain": [
              "-0.1*(-2.0 - 1.0*I)*(-1.0 - 1.0*I)/(p + 2.0 + 1.0*I) - 0.1*(-2.0 + 1.0*I)*(-1.0 + 1.0*I)/(p + 2.0 - 1.0*I) + 0.24*(-2.0 - 1.0*I)*(-2.0 + 1.0*I)/(p + 4)"
            ],
            "text/latex": "$\\displaystyle - \\frac{0.1 \\left(-2.0 - 1.0 i\\right) \\left(-1.0 - 1.0 i\\right)}{p + 2.0 + 1.0 i} - \\frac{0.1 \\left(-2.0 + 1.0 i\\right) \\left(-1.0 + 1.0 i\\right)}{p + 2.0 - 1.0 i} + \\frac{0.24 \\left(-2.0 - 1.0 i\\right) \\left(-2.0 + 1.0 i\\right)}{p + 4}$"
          },
          "metadata": {},
          "execution_count": 10
        }
      ]
    },
    {
      "cell_type": "code",
      "source": [
        "sp.inverse_laplace_transform(K, p, t)"
      ],
      "metadata": {
        "colab": {
          "base_uri": "https://localhost:8080/",
          "height": 40
        },
        "id": "0WgEa2UxUAEB",
        "outputId": "e2447f35-0312-4163-824b-e3135c267a9a"
      },
      "execution_count": 11,
      "outputs": [
        {
          "output_type": "execute_result",
          "data": {
            "text/plain": [
              "-0.1*(-2.0 - 1.0*I)*(-1.0 - 1.0*I)*exp(t*(-2.0 - 1.0*I))*Heaviside(t) - 0.1*(-2.0 + 1.0*I)*(-1.0 + 1.0*I)*exp(t*(-2.0 + 1.0*I))*Heaviside(t) + 0.24*(-2.0 - 1.0*I)*(-2.0 + 1.0*I)*exp(-4*t)*Heaviside(t)"
            ],
            "text/latex": "$\\displaystyle - 0.1 \\left(-2.0 - 1.0 i\\right) \\left(-1.0 - 1.0 i\\right) e^{t \\left(-2.0 - 1.0 i\\right)} \\theta\\left(t\\right) - 0.1 \\left(-2.0 + 1.0 i\\right) \\left(-1.0 + 1.0 i\\right) e^{t \\left(-2.0 + 1.0 i\\right)} \\theta\\left(t\\right) + 0.24 \\left(-2.0 - 1.0 i\\right) \\left(-2.0 + 1.0 i\\right) e^{- 4 t} \\theta\\left(t\\right)$"
          },
          "metadata": {},
          "execution_count": 11
        }
      ]
    },
    {
      "cell_type": "markdown",
      "source": [
        "## Méthodes de calcul"
      ],
      "metadata": {
        "id": "IHmA2i_NYFrn"
      }
    },
    {
      "cell_type": "markdown",
      "source": [
        "### Cas d'un pôle $p_0$ simple"
      ],
      "metadata": {
        "id": "VI4lz32nLJ3i"
      }
    },
    {
      "cell_type": "markdown",
      "source": [
        "$$F(p)=\\dfrac{P(p)}{Q(p)}=\\dfrac{P(p)}{B(p)(p-p_0)}=K(p)+\\dfrac{a_1}{(p-p_0)}$$\n",
        "\n",
        "$$a_1=\\dfrac{P(p_0)}{B(p_0)}=F(p)(p-p_0)|_{p=p_0}$$"
      ],
      "metadata": {
        "id": "MUFSyke1LVj_"
      }
    },
    {
      "cell_type": "markdown",
      "source": [
        "### Cas d'un pôle $p_0$ d'ordre de multiplicité N supérieur à 1"
      ],
      "metadata": {
        "id": "Dojj8BCVr6XZ"
      }
    },
    {
      "cell_type": "markdown",
      "source": [
        "$$F(s)=\\dfrac{P(p)}{Q(p)}=\\dfrac{P(p)}{B(p)(p-p_0)^N}=K(s)+\\Sigma_{n=1}^N\\dfrac{a_n}{(p-p_0)^n}$$\n",
        "\n",
        "$$a_N=\\dfrac{P(p_0)}{B(p_0)}=F(p)(p-p_0)^N|_{p=p_0}$$\n",
        "\n",
        "$$F_{N-1}(p)=F(p)-\\dfrac{a_N}{(p-p_0)^N}=K(p)+\\Sigma_{n=1}^{N-1}\\dfrac{a_n}{(p-p_0)^n}$$\n",
        "\n",
        "$$a_{N-1}=F_{N-1}(p)(p-p_0)^{N-1}|_{p=p_0}$$\n",
        "\n",
        "Par récurrence :\n",
        "\n",
        "$$F_N(p)=F(p)$$\n",
        "\n",
        "$$a_N=F(p)(p-p_0)^N|_{p=p_0}$$\n",
        "\n",
        "Pour $n$ variant de $N$ à $2$ :\n",
        "\n",
        "$$F_{n-1}(p)=F_n(p)-\\dfrac{a_n}{(p-p_0)^n}$$\n",
        "\n",
        "$$a_{n-1}=F_{n-1}(p)(p-p_0)^{n-1}|_{p=p_0}$$\n"
      ],
      "metadata": {
        "id": "NCHghUA-Xwtz"
      }
    },
    {
      "cell_type": "code",
      "source": [
        "def dec_e_s(F,p_0,N):\n",
        "    print(f'pôle p_0={p_0}')\n",
        "    Fn=F\n",
        "    R=(Fn*(p-p_0)**N).simplify()\n",
        "    a = R.subs(p, p_0)\n",
        "    print('degré',N,'coeff',sp.factor(a.simplify()))\n",
        "    for n in range(N,1,-1):\n",
        "        Fn=(Fn-a/(p-p_0)**n).expand(x=p)\n",
        "        Fn = Fn.simplify()\n",
        "        R=(Fn*(p-p_0)**(n-1)).simplify()\n",
        "        a = R.subs(p ,p_0)\n",
        "        print('degré',n-1,'coeff',sp.factor(a.simplify()))"
      ],
      "metadata": {
        "id": "SMkLYFTJN9ws"
      },
      "execution_count": 12,
      "outputs": []
    },
    {
      "cell_type": "code",
      "source": [
        "F = ((p - z1)*(p - z2))/((p - p1)*(p - p2)*(p - p3))\n",
        "F"
      ],
      "metadata": {
        "colab": {
          "base_uri": "https://localhost:8080/",
          "height": 57
        },
        "id": "wqXK5k174p_V",
        "outputId": "33c945d3-3187-4422-b6ef-a1e832574d97"
      },
      "execution_count": 13,
      "outputs": [
        {
          "output_type": "execute_result",
          "data": {
            "text/plain": [
              "(p - z_1)*(p - z_2)/((p - p_1)*(p - p_2)*(p - p_3))"
            ],
            "text/latex": "$\\displaystyle \\frac{\\left(p - z_{1}\\right) \\left(p - z_{2}\\right)}{\\left(p - p_{1}\\right) \\left(p - p_{2}\\right) \\left(p - p_{3}\\right)}$"
          },
          "metadata": {},
          "execution_count": 13
        }
      ]
    },
    {
      "cell_type": "code",
      "source": [
        "dec_e_s(F,p1,1)\n",
        "dec_e_s(F,p2,1)\n",
        "dec_e_s(F,p3,1)"
      ],
      "metadata": {
        "colab": {
          "base_uri": "https://localhost:8080/"
        },
        "id": "ydaJEJYj5dHL",
        "outputId": "9813d5cf-eef4-409c-e0b1-1fdb02cbcf3c"
      },
      "execution_count": 14,
      "outputs": [
        {
          "output_type": "stream",
          "name": "stdout",
          "text": [
            "pôle p_0=p_1\n",
            "degré 1 coeff (p_1 - z_1)*(p_1 - z_2)/((p_1 - p_2)*(p_1 - p_3))\n",
            "pôle p_0=p_2\n",
            "degré 1 coeff -(p_2 - z_1)*(p_2 - z_2)/((p_1 - p_2)*(p_2 - p_3))\n",
            "pôle p_0=p_3\n",
            "degré 1 coeff (p_3 - z_1)*(p_3 - z_2)/((p_1 - p_3)*(p_2 - p_3))\n"
          ]
        }
      ]
    },
    {
      "cell_type": "code",
      "source": [
        "G=F.apart(x=p)\n",
        "G"
      ],
      "metadata": {
        "colab": {
          "base_uri": "https://localhost:8080/",
          "height": 57
        },
        "id": "QK-QT84a5sYL",
        "outputId": "577b95b0-2d7a-45e8-a3fc-e31b3152d8e7"
      },
      "execution_count": 15,
      "outputs": [
        {
          "output_type": "execute_result",
          "data": {
            "text/plain": [
              "(p_3 - z_1)*(p_3 - z_2)/((p - p_3)*(p_1 - p_3)*(p_2 - p_3)) - (p_2 - z_1)*(p_2 - z_2)/((p - p_2)*(p_1 - p_2)*(p_2 - p_3)) + (p_1 - z_1)*(p_1 - z_2)/((p - p_1)*(p_1 - p_2)*(p_1 - p_3))"
            ],
            "text/latex": "$\\displaystyle \\frac{\\left(p_{3} - z_{1}\\right) \\left(p_{3} - z_{2}\\right)}{\\left(p - p_{3}\\right) \\left(p_{1} - p_{3}\\right) \\left(p_{2} - p_{3}\\right)} - \\frac{\\left(p_{2} - z_{1}\\right) \\left(p_{2} - z_{2}\\right)}{\\left(p - p_{2}\\right) \\left(p_{1} - p_{2}\\right) \\left(p_{2} - p_{3}\\right)} + \\frac{\\left(p_{1} - z_{1}\\right) \\left(p_{1} - z_{2}\\right)}{\\left(p - p_{1}\\right) \\left(p_{1} - p_{2}\\right) \\left(p_{1} - p_{3}\\right)}$"
          },
          "metadata": {},
          "execution_count": 15
        }
      ]
    },
    {
      "cell_type": "code",
      "source": [
        "invlapl = sp.inverse_laplace_transform(G, p, t)\n",
        "invlapl"
      ],
      "metadata": {
        "colab": {
          "base_uri": "https://localhost:8080/",
          "height": 58
        },
        "id": "y_WwrSZY6D47",
        "outputId": "8ff73691-2936-48cf-b8fd-cf837d4187c7"
      },
      "execution_count": 16,
      "outputs": [
        {
          "output_type": "execute_result",
          "data": {
            "text/plain": [
              "(p_3 - z_1)*(p_3 - z_2)*exp(p_3*t)*Heaviside(t)/((p_1 - p_3)*(p_2 - p_3)) - (p_2 - z_1)*(p_2 - z_2)*exp(p_2*t)*Heaviside(t)/((p_1 - p_2)*(p_2 - p_3)) + (p_1 - z_1)*(p_1 - z_2)*exp(p_1*t)*Heaviside(t)/((p_1 - p_2)*(p_1 - p_3))"
            ],
            "text/latex": "$\\displaystyle \\frac{\\left(p_{3} - z_{1}\\right) \\left(p_{3} - z_{2}\\right) e^{p_{3} t} \\theta\\left(t\\right)}{\\left(p_{1} - p_{3}\\right) \\left(p_{2} - p_{3}\\right)} - \\frac{\\left(p_{2} - z_{1}\\right) \\left(p_{2} - z_{2}\\right) e^{p_{2} t} \\theta\\left(t\\right)}{\\left(p_{1} - p_{2}\\right) \\left(p_{2} - p_{3}\\right)} + \\frac{\\left(p_{1} - z_{1}\\right) \\left(p_{1} - z_{2}\\right) e^{p_{1} t} \\theta\\left(t\\right)}{\\left(p_{1} - p_{2}\\right) \\left(p_{1} - p_{3}\\right)}$"
          },
          "metadata": {},
          "execution_count": 16
        }
      ]
    },
    {
      "cell_type": "code",
      "source": [
        "K=invlapl.subs({z1:-1, z2:-2, p1:-4,p2:-5,p3:-6})\n",
        "K"
      ],
      "metadata": {
        "colab": {
          "base_uri": "https://localhost:8080/",
          "height": 39
        },
        "id": "bxWMWiDw__FB",
        "outputId": "a3fe78bd-e536-408b-85d5-9dd38fdc5ba6"
      },
      "execution_count": 17,
      "outputs": [
        {
          "output_type": "execute_result",
          "data": {
            "text/plain": [
              "3*exp(-4*t)*Heaviside(t) - 12*exp(-5*t)*Heaviside(t) + 10*exp(-6*t)*Heaviside(t)"
            ],
            "text/latex": "$\\displaystyle 3 e^{- 4 t} \\theta\\left(t\\right) - 12 e^{- 5 t} \\theta\\left(t\\right) + 10 e^{- 6 t} \\theta\\left(t\\right)$"
          },
          "metadata": {},
          "execution_count": 17
        }
      ]
    },
    {
      "cell_type": "code",
      "source": [
        "F = ((p + 1)*(p + 2))/((p + 4)*(p + 5)*(p + 6))\n",
        "sp.inverse_laplace_transform(F, p, t)"
      ],
      "metadata": {
        "colab": {
          "base_uri": "https://localhost:8080/",
          "height": 39
        },
        "id": "mev4fgu66XcT",
        "outputId": "1cd50630-52dc-4582-b656-b2ec1637b562"
      },
      "execution_count": 18,
      "outputs": [
        {
          "output_type": "execute_result",
          "data": {
            "text/plain": [
              "3*exp(-4*t)*Heaviside(t) - 12*exp(-5*t)*Heaviside(t) + 10*exp(-6*t)*Heaviside(t)"
            ],
            "text/latex": "$\\displaystyle 3 e^{- 4 t} \\theta\\left(t\\right) - 12 e^{- 5 t} \\theta\\left(t\\right) + 10 e^{- 6 t} \\theta\\left(t\\right)$"
          },
          "metadata": {},
          "execution_count": 18
        }
      ]
    },
    {
      "cell_type": "code",
      "source": [
        "K=invlapl.subs({z1:-1, z2:-2, p1:-4,p2:-2+1j,p3:-2-1j})\n",
        "K"
      ],
      "metadata": {
        "colab": {
          "base_uri": "https://localhost:8080/",
          "height": 40
        },
        "id": "DdyCCnm6Bqv5",
        "outputId": "525e5d10-39ff-4bbf-f4f0-1a97868ece1b"
      },
      "execution_count": 19,
      "outputs": [
        {
          "output_type": "execute_result",
          "data": {
            "text/plain": [
              "-0.1*(-2.0 - 1.0*I)*(-1.0 - 1.0*I)*exp(t*(-2.0 - 1.0*I))*Heaviside(t) - 0.1*(-2.0 + 1.0*I)*(-1.0 + 1.0*I)*exp(t*(-2.0 + 1.0*I))*Heaviside(t) + 0.24*(-2.0 - 1.0*I)*(-2.0 + 1.0*I)*exp(-4*t)*Heaviside(t)"
            ],
            "text/latex": "$\\displaystyle - 0.1 \\left(-2.0 - 1.0 i\\right) \\left(-1.0 - 1.0 i\\right) e^{t \\left(-2.0 - 1.0 i\\right)} \\theta\\left(t\\right) - 0.1 \\left(-2.0 + 1.0 i\\right) \\left(-1.0 + 1.0 i\\right) e^{t \\left(-2.0 + 1.0 i\\right)} \\theta\\left(t\\right) + 0.24 \\left(-2.0 - 1.0 i\\right) \\left(-2.0 + 1.0 i\\right) e^{- 4 t} \\theta\\left(t\\right)$"
          },
          "metadata": {},
          "execution_count": 19
        }
      ]
    },
    {
      "cell_type": "code",
      "source": [
        "K.rewrite(sp.cos).simplify()"
      ],
      "metadata": {
        "colab": {
          "base_uri": "https://localhost:8080/",
          "height": 39
        },
        "id": "lx8PIlOI7iY8",
        "outputId": "6686cde0-05f7-411a-d37c-999c4a94f83e"
      },
      "execution_count": 20,
      "outputs": [
        {
          "output_type": "execute_result",
          "data": {
            "text/plain": [
              "(0.6*sin(1.0*t)*sinh(2.0*t) - 0.6*sin(1.0*t)*cosh(2.0*t) + 0.2*cos(1.0*t)*sinh(2.0*t) - 0.2*cos(1.0*t)*cosh(2.0*t) - 1.2*sinh(4*t) + 1.2*cosh(4*t))*Heaviside(t)"
            ],
            "text/latex": "$\\displaystyle \\left(0.6 \\sin{\\left(1.0 t \\right)} \\sinh{\\left(2.0 t \\right)} - 0.6 \\sin{\\left(1.0 t \\right)} \\cosh{\\left(2.0 t \\right)} + 0.2 \\cos{\\left(1.0 t \\right)} \\sinh{\\left(2.0 t \\right)} - 0.2 \\cos{\\left(1.0 t \\right)} \\cosh{\\left(2.0 t \\right)} - 1.2 \\sinh{\\left(4 t \\right)} + 1.2 \\cosh{\\left(4 t \\right)}\\right) \\theta\\left(t\\right)$"
          },
          "metadata": {},
          "execution_count": 20
        }
      ]
    },
    {
      "cell_type": "code",
      "source": [
        "F = ((p + 1)*(p + 2))/((p + 4)*(p + 2 - 1j)*(p + 2 + 1j))\n",
        "F"
      ],
      "metadata": {
        "colab": {
          "base_uri": "https://localhost:8080/",
          "height": 57
        },
        "id": "0pAUPCc_CTik",
        "outputId": "fda1df0a-bd7d-40d8-a2d1-1c9e2fb0e7f4"
      },
      "execution_count": 21,
      "outputs": [
        {
          "output_type": "execute_result",
          "data": {
            "text/plain": [
              "(p + 1)*(p + 2)/((p + 4)*(p + 2 - 1.0*I)*(p + 2 + 1.0*I))"
            ],
            "text/latex": "$\\displaystyle \\frac{\\left(p + 1\\right) \\left(p + 2\\right)}{\\left(p + 4\\right) \\left(p + 2 - 1.0 i\\right) \\left(p + 2 + 1.0 i\\right)}$"
          },
          "metadata": {},
          "execution_count": 21
        }
      ]
    },
    {
      "cell_type": "code",
      "source": [
        "sp.inverse_laplace_transform(F, p, t)"
      ],
      "metadata": {
        "id": "0gbiFJk3CXDy",
        "outputId": "5faed37b-54c7-4108-ec52-255c9325c239",
        "colab": {
          "base_uri": "https://localhost:8080/",
          "height": 39
        }
      },
      "execution_count": 22,
      "outputs": [
        {
          "output_type": "execute_result",
          "data": {
            "text/plain": [
              "(-0.6*exp(-2.0*t)*sin(1.0*t) - 0.2*exp(-2.0*t)*cos(1.0*t))*Heaviside(t) + 1.2*exp(-4.0*t)*Heaviside(t)"
            ],
            "text/latex": "$\\displaystyle \\left(- 0.6 e^{- 2.0 t} \\sin{\\left(1.0 t \\right)} - 0.2 e^{- 2.0 t} \\cos{\\left(1.0 t \\right)}\\right) \\theta\\left(t\\right) + 1.2 e^{- 4.0 t} \\theta\\left(t\\right)$"
          },
          "metadata": {},
          "execution_count": 22
        }
      ]
    },
    {
      "cell_type": "code",
      "source": [
        "F = (p-z1)*(p-z2)/((p -p1)**3*(p -p2)**3)\n",
        "F"
      ],
      "metadata": {
        "colab": {
          "base_uri": "https://localhost:8080/",
          "height": 60
        },
        "id": "HummWL7ZUM-u",
        "outputId": "2c7a78be-a242-407b-df22-3f9f15a083ae"
      },
      "execution_count": 23,
      "outputs": [
        {
          "output_type": "execute_result",
          "data": {
            "text/plain": [
              "(p - z_1)*(p - z_2)/((p - p_1)**3*(p - p_2)**3)"
            ],
            "text/latex": "$\\displaystyle \\frac{\\left(p - z_{1}\\right) \\left(p - z_{2}\\right)}{\\left(p - p_{1}\\right)^{3} \\left(p - p_{2}\\right)^{3}}$"
          },
          "metadata": {},
          "execution_count": 23
        }
      ]
    },
    {
      "cell_type": "code",
      "source": [
        "dec_e_s(F,p1,3)\n",
        "dec_e_s(F,p2,3)"
      ],
      "metadata": {
        "colab": {
          "base_uri": "https://localhost:8080/"
        },
        "id": "Vt3Jc52iXwhY",
        "outputId": "6ca2a922-a451-4869-c486-ed77f2c868b5"
      },
      "execution_count": 24,
      "outputs": [
        {
          "output_type": "stream",
          "name": "stdout",
          "text": [
            "pôle p_0=p_1\n",
            "degré 3 coeff (p_1 - z_1)*(p_1 - z_2)/(p_1 - p_2)**3\n",
            "degré 2 coeff -(p_1**2 + 2*p_1*p_2 - 2*p_1*z_1 - 2*p_1*z_2 - p_2*z_1 - p_2*z_2 + 3*z_1*z_2)/(p_1 - p_2)**4\n",
            "degré 1 coeff (p_1**2 + 4*p_1*p_2 - 3*p_1*z_1 - 3*p_1*z_2 + p_2**2 - 3*p_2*z_1 - 3*p_2*z_2 + 6*z_1*z_2)/(p_1 - p_2)**5\n",
            "pôle p_0=p_2\n",
            "degré 3 coeff -(p_2 - z_1)*(p_2 - z_2)/(p_1 - p_2)**3\n",
            "degré 2 coeff -(2*p_1*p_2 - p_1*z_1 - p_1*z_2 + p_2**2 - 2*p_2*z_1 - 2*p_2*z_2 + 3*z_1*z_2)/(p_1 - p_2)**4\n",
            "degré 1 coeff -(p_1**2 + 4*p_1*p_2 - 3*p_1*z_1 - 3*p_1*z_2 + p_2**2 - 3*p_2*z_1 - 3*p_2*z_2 + 6*z_1*z_2)/(p_1 - p_2)**5\n"
          ]
        }
      ]
    },
    {
      "cell_type": "code",
      "source": [
        "G=F.apart(x=p)\n",
        "G"
      ],
      "metadata": {
        "colab": {
          "base_uri": "https://localhost:8080/",
          "height": 105
        },
        "id": "I7pfH9-jUkdt",
        "outputId": "c432d02f-6e5f-4359-bc48-53b9cfa651d2"
      },
      "execution_count": 25,
      "outputs": [
        {
          "output_type": "execute_result",
          "data": {
            "text/plain": [
              "-(p_1**2 + 4*p_1*p_2 - 3*p_1*z_1 - 3*p_1*z_2 + p_2**2 - 3*p_2*z_1 - 3*p_2*z_2 + 6*z_1*z_2)/((p - p_2)*(p_1 - p_2)**5) - (2*p_1*p_2 - p_1*z_1 - p_1*z_2 + p_2**2 - 2*p_2*z_1 - 2*p_2*z_2 + 3*z_1*z_2)/((p - p_2)**2*(p_1 - p_2)**4) - (p_2 - z_1)*(p_2 - z_2)/((p - p_2)**3*(p_1 - p_2)**3) + (p_1**2 + 4*p_1*p_2 - 3*p_1*z_1 - 3*p_1*z_2 + p_2**2 - 3*p_2*z_1 - 3*p_2*z_2 + 6*z_1*z_2)/((p - p_1)*(p_1 - p_2)**5) - (p_1**2 + 2*p_1*p_2 - 2*p_1*z_1 - 2*p_1*z_2 - p_2*z_1 - p_2*z_2 + 3*z_1*z_2)/((p - p_1)**2*(p_1 - p_2)**4) + (p_1 - z_1)*(p_1 - z_2)/((p - p_1)**3*(p_1 - p_2)**3)"
            ],
            "text/latex": "$\\displaystyle - \\frac{p_{1}^{2} + 4 p_{1} p_{2} - 3 p_{1} z_{1} - 3 p_{1} z_{2} + p_{2}^{2} - 3 p_{2} z_{1} - 3 p_{2} z_{2} + 6 z_{1} z_{2}}{\\left(p - p_{2}\\right) \\left(p_{1} - p_{2}\\right)^{5}} - \\frac{2 p_{1} p_{2} - p_{1} z_{1} - p_{1} z_{2} + p_{2}^{2} - 2 p_{2} z_{1} - 2 p_{2} z_{2} + 3 z_{1} z_{2}}{\\left(p - p_{2}\\right)^{2} \\left(p_{1} - p_{2}\\right)^{4}} - \\frac{\\left(p_{2} - z_{1}\\right) \\left(p_{2} - z_{2}\\right)}{\\left(p - p_{2}\\right)^{3} \\left(p_{1} - p_{2}\\right)^{3}} + \\frac{p_{1}^{2} + 4 p_{1} p_{2} - 3 p_{1} z_{1} - 3 p_{1} z_{2} + p_{2}^{2} - 3 p_{2} z_{1} - 3 p_{2} z_{2} + 6 z_{1} z_{2}}{\\left(p - p_{1}\\right) \\left(p_{1} - p_{2}\\right)^{5}} - \\frac{p_{1}^{2} + 2 p_{1} p_{2} - 2 p_{1} z_{1} - 2 p_{1} z_{2} - p_{2} z_{1} - p_{2} z_{2} + 3 z_{1} z_{2}}{\\left(p - p_{1}\\right)^{2} \\left(p_{1} - p_{2}\\right)^{4}} + \\frac{\\left(p_{1} - z_{1}\\right) \\left(p_{1} - z_{2}\\right)}{\\left(p - p_{1}\\right)^{3} \\left(p_{1} - p_{2}\\right)^{3}}$"
          },
          "metadata": {},
          "execution_count": 25
        }
      ]
    },
    {
      "cell_type": "code",
      "source": [
        "K=G.subs({z1:1,z2:2,p1:-1,p2:-2})\n",
        "K"
      ],
      "metadata": {
        "colab": {
          "base_uri": "https://localhost:8080/",
          "height": 58
        },
        "id": "hUc6u1fAWMnl",
        "outputId": "0000c557-1d5c-4f36-a92c-1bdfbee0944f"
      },
      "execution_count": 26,
      "outputs": [
        {
          "output_type": "execute_result",
          "data": {
            "text/plain": [
              "-52/(p + 2) - 29/(p + 2)**2 - 12/(p + 2)**3 + 52/(p + 1) - 23/(p + 1)**2 + 6/(p + 1)**3"
            ],
            "text/latex": "$\\displaystyle - \\frac{52}{p + 2} - \\frac{29}{\\left(p + 2\\right)^{2}} - \\frac{12}{\\left(p + 2\\right)^{3}} + \\frac{52}{p + 1} - \\frac{23}{\\left(p + 1\\right)^{2}} + \\frac{6}{\\left(p + 1\\right)^{3}}$"
          },
          "metadata": {},
          "execution_count": 26
        }
      ]
    },
    {
      "cell_type": "code",
      "source": [
        "invlapl = sp.inverse_laplace_transform(G, p, t)\n",
        "invlapl"
      ],
      "metadata": {
        "colab": {
          "base_uri": "https://localhost:8080/",
          "height": 153
        },
        "id": "EFI7LsMdZvi5",
        "outputId": "b64b410e-5293-45a5-caa5-4710ee29b788"
      },
      "execution_count": 27,
      "outputs": [
        {
          "output_type": "execute_result",
          "data": {
            "text/plain": [
              "t**2*(p_1 - z_1)*(p_1 - z_2)*exp(p_1*t)*Heaviside(t)/(2*(p_1 - p_2)**3) - t**2*(p_2 - z_1)*(p_2 - z_2)*exp(p_2*t)*Heaviside(t)/(2*(p_1 - p_2)**3) - t*(p_1**2 + 2*p_1*p_2 - 2*p_1*z_1 - 2*p_1*z_2 - p_2*z_1 - p_2*z_2 + 3*z_1*z_2)*exp(p_1*t)*Heaviside(t)/(p_1 - p_2)**4 - t*(2*p_1*p_2 - p_1*z_1 - p_1*z_2 + p_2**2 - 2*p_2*z_1 - 2*p_2*z_2 + 3*z_1*z_2)*exp(p_2*t)*Heaviside(t)/(p_1 - p_2)**4 + (p_1**2 + 4*p_1*p_2 - 3*p_1*z_1 - 3*p_1*z_2 + p_2**2 - 3*p_2*z_1 - 3*p_2*z_2 + 6*z_1*z_2)*exp(p_1*t)*Heaviside(t)/(p_1 - p_2)**5 - (p_1**2 + 4*p_1*p_2 - 3*p_1*z_1 - 3*p_1*z_2 + p_2**2 - 3*p_2*z_1 - 3*p_2*z_2 + 6*z_1*z_2)*exp(p_2*t)*Heaviside(t)/(p_1 - p_2)**5"
            ],
            "text/latex": "$\\displaystyle \\frac{t^{2} \\left(p_{1} - z_{1}\\right) \\left(p_{1} - z_{2}\\right) e^{p_{1} t} \\theta\\left(t\\right)}{2 \\left(p_{1} - p_{2}\\right)^{3}} - \\frac{t^{2} \\left(p_{2} - z_{1}\\right) \\left(p_{2} - z_{2}\\right) e^{p_{2} t} \\theta\\left(t\\right)}{2 \\left(p_{1} - p_{2}\\right)^{3}} - \\frac{t \\left(p_{1}^{2} + 2 p_{1} p_{2} - 2 p_{1} z_{1} - 2 p_{1} z_{2} - p_{2} z_{1} - p_{2} z_{2} + 3 z_{1} z_{2}\\right) e^{p_{1} t} \\theta\\left(t\\right)}{\\left(p_{1} - p_{2}\\right)^{4}} - \\frac{t \\left(2 p_{1} p_{2} - p_{1} z_{1} - p_{1} z_{2} + p_{2}^{2} - 2 p_{2} z_{1} - 2 p_{2} z_{2} + 3 z_{1} z_{2}\\right) e^{p_{2} t} \\theta\\left(t\\right)}{\\left(p_{1} - p_{2}\\right)^{4}} + \\frac{\\left(p_{1}^{2} + 4 p_{1} p_{2} - 3 p_{1} z_{1} - 3 p_{1} z_{2} + p_{2}^{2} - 3 p_{2} z_{1} - 3 p_{2} z_{2} + 6 z_{1} z_{2}\\right) e^{p_{1} t} \\theta\\left(t\\right)}{\\left(p_{1} - p_{2}\\right)^{5}} - \\frac{\\left(p_{1}^{2} + 4 p_{1} p_{2} - 3 p_{1} z_{1} - 3 p_{1} z_{2} + p_{2}^{2} - 3 p_{2} z_{1} - 3 p_{2} z_{2} + 6 z_{1} z_{2}\\right) e^{p_{2} t} \\theta\\left(t\\right)}{\\left(p_{1} - p_{2}\\right)^{5}}$"
          },
          "metadata": {},
          "execution_count": 27
        }
      ]
    },
    {
      "cell_type": "code",
      "source": [
        "invlapl.subs({z1:1,z2:2,p1:-1,p2:-2})"
      ],
      "metadata": {
        "colab": {
          "base_uri": "https://localhost:8080/",
          "height": 39
        },
        "id": "XhLgCbhrj5ZJ",
        "outputId": "082091b9-7b91-48dd-f211-1419e7978937"
      },
      "execution_count": 28,
      "outputs": [
        {
          "output_type": "execute_result",
          "data": {
            "text/plain": [
              "3*t**2*exp(-t)*Heaviside(t) - 6*t**2*exp(-2*t)*Heaviside(t) - 23*t*exp(-t)*Heaviside(t) - 29*t*exp(-2*t)*Heaviside(t) + 52*exp(-t)*Heaviside(t) - 52*exp(-2*t)*Heaviside(t)"
            ],
            "text/latex": "$\\displaystyle 3 t^{2} e^{- t} \\theta\\left(t\\right) - 6 t^{2} e^{- 2 t} \\theta\\left(t\\right) - 23 t e^{- t} \\theta\\left(t\\right) - 29 t e^{- 2 t} \\theta\\left(t\\right) + 52 e^{- t} \\theta\\left(t\\right) - 52 e^{- 2 t} \\theta\\left(t\\right)$"
          },
          "metadata": {},
          "execution_count": 28
        }
      ]
    },
    {
      "cell_type": "code",
      "source": [
        "w0, xi, tau = sp.symbols('w_0, xi, tau', real=True, positive=True)\n",
        "R = (1+tau*p)/(1+2*xi*p/w0+p**2/w0**2)\n",
        "R"
      ],
      "metadata": {
        "colab": {
          "base_uri": "https://localhost:8080/",
          "height": 64
        },
        "id": "lDJpyaHE5fpG",
        "outputId": "55d08326-3921-4a72-f1c7-0a3758ca002f"
      },
      "execution_count": 29,
      "outputs": [
        {
          "output_type": "execute_result",
          "data": {
            "text/plain": [
              "(p*tau + 1)/(p**2/w_0**2 + 2*p*xi/w_0 + 1)"
            ],
            "text/latex": "$\\displaystyle \\frac{p \\tau + 1}{\\frac{p^{2}}{w_{0}^{2}} + \\frac{2 p \\xi}{w_{0}} + 1}$"
          },
          "metadata": {},
          "execution_count": 29
        }
      ]
    },
    {
      "cell_type": "code",
      "source": [
        "r = sp.inverse_laplace_transform(R, p, t).simplify()\n",
        "r"
      ],
      "metadata": {
        "colab": {
          "base_uri": "https://localhost:8080/",
          "height": 73
        },
        "id": "xez3nRuC8Ixq",
        "outputId": "1768bc32-85de-41cf-84b8-ec753e28e970"
      },
      "execution_count": 30,
      "outputs": [
        {
          "output_type": "execute_result",
          "data": {
            "text/plain": [
              "w_0*(tau*w_0*sqrt(1 - xi**2)*cos(t*w_0*sqrt(1 - xi**2)) + (-tau*w_0*xi + 1)*sin(t*w_0*sqrt(1 - xi**2)))*exp(-t*w_0*xi)*Heaviside(t)/sqrt(1 - xi**2)"
            ],
            "text/latex": "$\\displaystyle \\frac{w_{0} \\left(\\tau w_{0} \\sqrt{1 - \\xi^{2}} \\cos{\\left(t w_{0} \\sqrt{1 - \\xi^{2}} \\right)} + \\left(- \\tau w_{0} \\xi + 1\\right) \\sin{\\left(t w_{0} \\sqrt{1 - \\xi^{2}} \\right)}\\right) e^{- t w_{0} \\xi} \\theta\\left(t\\right)}{\\sqrt{1 - \\xi^{2}}}$"
          },
          "metadata": {},
          "execution_count": 30
        }
      ]
    }
  ],
  "metadata": {
    "anaconda-cloud": {},
    "kernelspec": {
      "display_name": "Python 3 (ipykernel)",
      "language": "python",
      "name": "python3"
    },
    "language_info": {
      "codemirror_mode": {
        "name": "ipython",
        "version": 3
      },
      "file_extension": ".py",
      "mimetype": "text/x-python",
      "name": "python",
      "nbconvert_exporter": "python",
      "pygments_lexer": "ipython3",
      "version": "3.11.6"
    },
    "colab": {
      "provenance": []
    }
  },
  "nbformat": 4,
  "nbformat_minor": 0
}